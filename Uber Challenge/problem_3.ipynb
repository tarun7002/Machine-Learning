{
 "cells": [
  {
   "cell_type": "code",
   "execution_count": 1,
   "metadata": {
    "collapsed": true
   },
   "outputs": [],
   "source": [
    "# Importing the required libraries\n",
    "import pandas as pd\n",
    "import numpy as np\n",
    "import matplotlib.pyplot as plt\n",
    "%matplotlib inline"
   ]
  },
  {
   "cell_type": "markdown",
   "metadata": {},
   "source": [
    "Importing all the libraries which are required for Data Analysis, Exploratory Data Analysis, Data Visualization and to do Machine Learning. Numpy helps us to perform computations on data easily and Pandas helps us to do thorough Data Analysis. Matplotlib helps us in Data Visualization."
   ]
  },
  {
   "cell_type": "code",
   "execution_count": 2,
   "metadata": {
    "collapsed": true
   },
   "outputs": [],
   "source": [
    "# Reading the data into the pandas dataframe\n",
    "rides = pd.read_csv(\"uber_data.csv\")"
   ]
  },
  {
   "cell_type": "markdown",
   "metadata": {},
   "source": [
    "Storing our data which is present in uber_data csv file to Pandas Dataframe named rides."
   ]
  },
  {
   "cell_type": "code",
   "execution_count": 3,
   "metadata": {
    "collapsed": false
   },
   "outputs": [
    {
     "data": {
      "text/html": [
       "<div>\n",
       "<table border=\"1\" class=\"dataframe\">\n",
       "  <thead>\n",
       "    <tr style=\"text-align: right;\">\n",
       "      <th></th>\n",
       "      <th>id</th>\n",
       "      <th>city_name</th>\n",
       "      <th>signup_os</th>\n",
       "      <th>signup_channel</th>\n",
       "      <th>signup_date</th>\n",
       "      <th>bgc_date</th>\n",
       "      <th>vehicle_added_date</th>\n",
       "      <th>vehicle_make</th>\n",
       "      <th>vehicle_model</th>\n",
       "      <th>vehicle_year</th>\n",
       "      <th>first_completed_date</th>\n",
       "    </tr>\n",
       "  </thead>\n",
       "  <tbody>\n",
       "    <tr>\n",
       "      <th>0</th>\n",
       "      <td>1</td>\n",
       "      <td>Strark</td>\n",
       "      <td>ios web</td>\n",
       "      <td>Paid</td>\n",
       "      <td>1/2/16</td>\n",
       "      <td>NaN</td>\n",
       "      <td>NaN</td>\n",
       "      <td>NaN</td>\n",
       "      <td>NaN</td>\n",
       "      <td>NaN</td>\n",
       "      <td>NaN</td>\n",
       "    </tr>\n",
       "    <tr>\n",
       "      <th>1</th>\n",
       "      <td>2</td>\n",
       "      <td>Strark</td>\n",
       "      <td>windows</td>\n",
       "      <td>Paid</td>\n",
       "      <td>1/21/16</td>\n",
       "      <td>NaN</td>\n",
       "      <td>NaN</td>\n",
       "      <td>NaN</td>\n",
       "      <td>NaN</td>\n",
       "      <td>NaN</td>\n",
       "      <td>NaN</td>\n",
       "    </tr>\n",
       "    <tr>\n",
       "      <th>2</th>\n",
       "      <td>3</td>\n",
       "      <td>Wrouver</td>\n",
       "      <td>windows</td>\n",
       "      <td>Organic</td>\n",
       "      <td>1/11/16</td>\n",
       "      <td>1/11/16</td>\n",
       "      <td>NaN</td>\n",
       "      <td>NaN</td>\n",
       "      <td>NaN</td>\n",
       "      <td>NaN</td>\n",
       "      <td>NaN</td>\n",
       "    </tr>\n",
       "    <tr>\n",
       "      <th>3</th>\n",
       "      <td>4</td>\n",
       "      <td>Berton</td>\n",
       "      <td>android web</td>\n",
       "      <td>Referral</td>\n",
       "      <td>1/29/16</td>\n",
       "      <td>2/3/16</td>\n",
       "      <td>2/3/16</td>\n",
       "      <td>Toyota</td>\n",
       "      <td>Corolla</td>\n",
       "      <td>2016.0</td>\n",
       "      <td>2/3/16</td>\n",
       "    </tr>\n",
       "    <tr>\n",
       "      <th>4</th>\n",
       "      <td>5</td>\n",
       "      <td>Strark</td>\n",
       "      <td>android web</td>\n",
       "      <td>Referral</td>\n",
       "      <td>1/10/16</td>\n",
       "      <td>1/25/16</td>\n",
       "      <td>1/26/16</td>\n",
       "      <td>Hyundai</td>\n",
       "      <td>Sonata</td>\n",
       "      <td>2016.0</td>\n",
       "      <td>NaN</td>\n",
       "    </tr>\n",
       "  </tbody>\n",
       "</table>\n",
       "</div>"
      ],
      "text/plain": [
       "   id city_name    signup_os signup_channel signup_date bgc_date  \\\n",
       "0   1    Strark      ios web           Paid      1/2/16      NaN   \n",
       "1   2    Strark      windows           Paid     1/21/16      NaN   \n",
       "2   3   Wrouver      windows        Organic     1/11/16  1/11/16   \n",
       "3   4    Berton  android web       Referral     1/29/16   2/3/16   \n",
       "4   5    Strark  android web       Referral     1/10/16  1/25/16   \n",
       "\n",
       "  vehicle_added_date vehicle_make vehicle_model  vehicle_year  \\\n",
       "0                NaN          NaN           NaN           NaN   \n",
       "1                NaN          NaN           NaN           NaN   \n",
       "2                NaN          NaN           NaN           NaN   \n",
       "3             2/3/16       Toyota       Corolla        2016.0   \n",
       "4            1/26/16      Hyundai        Sonata        2016.0   \n",
       "\n",
       "  first_completed_date  \n",
       "0                  NaN  \n",
       "1                  NaN  \n",
       "2                  NaN  \n",
       "3               2/3/16  \n",
       "4                  NaN  "
      ]
     },
     "execution_count": 3,
     "metadata": {},
     "output_type": "execute_result"
    }
   ],
   "source": [
    "# Printing out first 5 rows of data\n",
    "rides.head()"
   ]
  },
  {
   "cell_type": "markdown",
   "metadata": {},
   "source": [
    "Using head() method to display the first 5 rows of the data."
   ]
  },
  {
   "cell_type": "markdown",
   "metadata": {},
   "source": [
    "# Data Cleaning"
   ]
  },
  {
   "cell_type": "code",
   "execution_count": 4,
   "metadata": {
    "collapsed": true
   },
   "outputs": [],
   "source": [
    "# Fill all NaN values with zero on first_completed_date column\n",
    "rides['first_completed_date'] = rides['first_completed_date'].fillna(0)"
   ]
  },
  {
   "cell_type": "markdown",
   "metadata": {},
   "source": [
    "first_completed_day has lot of missing values. We need to fill this with zero before converting it to class labels."
   ]
  },
  {
   "cell_type": "code",
   "execution_count": 5,
   "metadata": {
    "collapsed": true
   },
   "outputs": [],
   "source": [
    "# A function which creates a label of 1 or 0 for each row\n",
    "def create_labels(ride_date):\n",
    "    if ride_date == 0:\n",
    "        return 0\n",
    "    else:\n",
    "        return 1"
   ]
  },
  {
   "cell_type": "markdown",
   "metadata": {},
   "source": [
    "A function to convert the rows into labels of '1' and '0'."
   ]
  },
  {
   "cell_type": "code",
   "execution_count": 6,
   "metadata": {
    "collapsed": false
   },
   "outputs": [],
   "source": [
    "# Create a class label column using the above created function \n",
    "rides['class_label'] = rides['first_completed_date'].apply(create_labels)"
   ]
  },
  {
   "cell_type": "markdown",
   "metadata": {},
   "source": [
    "Apply 'create_labels' over first_completd_date column to create a new column of class labels named class_label."
   ]
  },
  {
   "cell_type": "code",
   "execution_count": 7,
   "metadata": {
    "collapsed": false
   },
   "outputs": [
    {
     "data": {
      "text/html": [
       "<div>\n",
       "<table border=\"1\" class=\"dataframe\">\n",
       "  <thead>\n",
       "    <tr style=\"text-align: right;\">\n",
       "      <th></th>\n",
       "      <th>id</th>\n",
       "      <th>city_name</th>\n",
       "      <th>signup_os</th>\n",
       "      <th>signup_channel</th>\n",
       "      <th>signup_date</th>\n",
       "      <th>bgc_date</th>\n",
       "      <th>vehicle_added_date</th>\n",
       "      <th>vehicle_make</th>\n",
       "      <th>vehicle_model</th>\n",
       "      <th>vehicle_year</th>\n",
       "      <th>first_completed_date</th>\n",
       "      <th>class_label</th>\n",
       "    </tr>\n",
       "  </thead>\n",
       "  <tbody>\n",
       "    <tr>\n",
       "      <th>0</th>\n",
       "      <td>1</td>\n",
       "      <td>Strark</td>\n",
       "      <td>ios web</td>\n",
       "      <td>Paid</td>\n",
       "      <td>1/2/16</td>\n",
       "      <td>NaN</td>\n",
       "      <td>NaN</td>\n",
       "      <td>NaN</td>\n",
       "      <td>NaN</td>\n",
       "      <td>NaN</td>\n",
       "      <td>0</td>\n",
       "      <td>0</td>\n",
       "    </tr>\n",
       "    <tr>\n",
       "      <th>1</th>\n",
       "      <td>2</td>\n",
       "      <td>Strark</td>\n",
       "      <td>windows</td>\n",
       "      <td>Paid</td>\n",
       "      <td>1/21/16</td>\n",
       "      <td>NaN</td>\n",
       "      <td>NaN</td>\n",
       "      <td>NaN</td>\n",
       "      <td>NaN</td>\n",
       "      <td>NaN</td>\n",
       "      <td>0</td>\n",
       "      <td>0</td>\n",
       "    </tr>\n",
       "    <tr>\n",
       "      <th>2</th>\n",
       "      <td>3</td>\n",
       "      <td>Wrouver</td>\n",
       "      <td>windows</td>\n",
       "      <td>Organic</td>\n",
       "      <td>1/11/16</td>\n",
       "      <td>1/11/16</td>\n",
       "      <td>NaN</td>\n",
       "      <td>NaN</td>\n",
       "      <td>NaN</td>\n",
       "      <td>NaN</td>\n",
       "      <td>0</td>\n",
       "      <td>0</td>\n",
       "    </tr>\n",
       "    <tr>\n",
       "      <th>3</th>\n",
       "      <td>4</td>\n",
       "      <td>Berton</td>\n",
       "      <td>android web</td>\n",
       "      <td>Referral</td>\n",
       "      <td>1/29/16</td>\n",
       "      <td>2/3/16</td>\n",
       "      <td>2/3/16</td>\n",
       "      <td>Toyota</td>\n",
       "      <td>Corolla</td>\n",
       "      <td>2016.0</td>\n",
       "      <td>2/3/16</td>\n",
       "      <td>1</td>\n",
       "    </tr>\n",
       "    <tr>\n",
       "      <th>4</th>\n",
       "      <td>5</td>\n",
       "      <td>Strark</td>\n",
       "      <td>android web</td>\n",
       "      <td>Referral</td>\n",
       "      <td>1/10/16</td>\n",
       "      <td>1/25/16</td>\n",
       "      <td>1/26/16</td>\n",
       "      <td>Hyundai</td>\n",
       "      <td>Sonata</td>\n",
       "      <td>2016.0</td>\n",
       "      <td>0</td>\n",
       "      <td>0</td>\n",
       "    </tr>\n",
       "  </tbody>\n",
       "</table>\n",
       "</div>"
      ],
      "text/plain": [
       "   id city_name    signup_os signup_channel signup_date bgc_date  \\\n",
       "0   1    Strark      ios web           Paid      1/2/16      NaN   \n",
       "1   2    Strark      windows           Paid     1/21/16      NaN   \n",
       "2   3   Wrouver      windows        Organic     1/11/16  1/11/16   \n",
       "3   4    Berton  android web       Referral     1/29/16   2/3/16   \n",
       "4   5    Strark  android web       Referral     1/10/16  1/25/16   \n",
       "\n",
       "  vehicle_added_date vehicle_make vehicle_model  vehicle_year  \\\n",
       "0                NaN          NaN           NaN           NaN   \n",
       "1                NaN          NaN           NaN           NaN   \n",
       "2                NaN          NaN           NaN           NaN   \n",
       "3             2/3/16       Toyota       Corolla        2016.0   \n",
       "4            1/26/16      Hyundai        Sonata        2016.0   \n",
       "\n",
       "  first_completed_date  class_label  \n",
       "0                    0            0  \n",
       "1                    0            0  \n",
       "2                    0            0  \n",
       "3               2/3/16            1  \n",
       "4                    0            0  "
      ]
     },
     "execution_count": 7,
     "metadata": {},
     "output_type": "execute_result"
    }
   ],
   "source": [
    "# Check if the class label column is created successfully\n",
    "rides.head()"
   ]
  },
  {
   "cell_type": "code",
   "execution_count": 8,
   "metadata": {
    "collapsed": false
   },
   "outputs": [
    {
     "data": {
      "text/plain": [
       "(54681, 12)"
      ]
     },
     "execution_count": 8,
     "metadata": {},
     "output_type": "execute_result"
    }
   ],
   "source": [
    "# Know the number of rows and columns of rides using shape attribue\n",
    "rides.shape"
   ]
  },
  {
   "cell_type": "code",
   "execution_count": 9,
   "metadata": {
    "collapsed": false
   },
   "outputs": [
    {
     "data": {
      "text/html": [
       "<div>\n",
       "<table border=\"1\" class=\"dataframe\">\n",
       "  <thead>\n",
       "    <tr style=\"text-align: right;\">\n",
       "      <th></th>\n",
       "      <th>id</th>\n",
       "      <th>vehicle_year</th>\n",
       "      <th>class_label</th>\n",
       "    </tr>\n",
       "  </thead>\n",
       "  <tbody>\n",
       "    <tr>\n",
       "      <th>count</th>\n",
       "      <td>54681.000000</td>\n",
       "      <td>13223.000000</td>\n",
       "      <td>54681.000000</td>\n",
       "    </tr>\n",
       "    <tr>\n",
       "      <th>mean</th>\n",
       "      <td>27341.000000</td>\n",
       "      <td>2010.568025</td>\n",
       "      <td>0.112233</td>\n",
       "    </tr>\n",
       "    <tr>\n",
       "      <th>std</th>\n",
       "      <td>15785.189372</td>\n",
       "      <td>35.219184</td>\n",
       "      <td>0.315656</td>\n",
       "    </tr>\n",
       "    <tr>\n",
       "      <th>min</th>\n",
       "      <td>1.000000</td>\n",
       "      <td>0.000000</td>\n",
       "      <td>0.000000</td>\n",
       "    </tr>\n",
       "    <tr>\n",
       "      <th>25%</th>\n",
       "      <td>13671.000000</td>\n",
       "      <td>2008.000000</td>\n",
       "      <td>0.000000</td>\n",
       "    </tr>\n",
       "    <tr>\n",
       "      <th>50%</th>\n",
       "      <td>27341.000000</td>\n",
       "      <td>2013.000000</td>\n",
       "      <td>0.000000</td>\n",
       "    </tr>\n",
       "    <tr>\n",
       "      <th>75%</th>\n",
       "      <td>41011.000000</td>\n",
       "      <td>2015.000000</td>\n",
       "      <td>0.000000</td>\n",
       "    </tr>\n",
       "    <tr>\n",
       "      <th>max</th>\n",
       "      <td>54681.000000</td>\n",
       "      <td>2017.000000</td>\n",
       "      <td>1.000000</td>\n",
       "    </tr>\n",
       "  </tbody>\n",
       "</table>\n",
       "</div>"
      ],
      "text/plain": [
       "                 id  vehicle_year   class_label\n",
       "count  54681.000000  13223.000000  54681.000000\n",
       "mean   27341.000000   2010.568025      0.112233\n",
       "std    15785.189372     35.219184      0.315656\n",
       "min        1.000000      0.000000      0.000000\n",
       "25%    13671.000000   2008.000000      0.000000\n",
       "50%    27341.000000   2013.000000      0.000000\n",
       "75%    41011.000000   2015.000000      0.000000\n",
       "max    54681.000000   2017.000000      1.000000"
      ]
     },
     "execution_count": 9,
     "metadata": {},
     "output_type": "execute_result"
    }
   ],
   "source": [
    "# Check if there are any null values in the numeric data coulmns with 'count' row\n",
    "rides.describe()"
   ]
  },
  {
   "cell_type": "code",
   "execution_count": 10,
   "metadata": {
    "collapsed": true
   },
   "outputs": [],
   "source": [
    "# Fill all the NaN values of vehicle_added_date with signup_date \n",
    "rides['vehicle_added_date'] = rides['vehicle_added_date'].fillna(rides['signup_date'])"
   ]
  },
  {
   "cell_type": "markdown",
   "metadata": {},
   "source": [
    "There are a lot of missing values in vehicle_added_date column. A good idea would be to replace them with its signup_date indicating there was no difference at all after the signup and vehicle added. This difference might be one of the potential features for us during model training phase. Lets explore this in depth further."
   ]
  },
  {
   "cell_type": "code",
   "execution_count": 11,
   "metadata": {
    "collapsed": false
   },
   "outputs": [
    {
     "data": {
      "text/plain": [
       "id                        int64\n",
       "city_name                object\n",
       "signup_os                object\n",
       "signup_channel           object\n",
       "signup_date              object\n",
       "bgc_date                 object\n",
       "vehicle_added_date       object\n",
       "vehicle_make             object\n",
       "vehicle_model            object\n",
       "vehicle_year            float64\n",
       "first_completed_date     object\n",
       "class_label               int64\n",
       "dtype: object"
      ]
     },
     "execution_count": 11,
     "metadata": {},
     "output_type": "execute_result"
    }
   ],
   "source": [
    "# Check the data types of all the columns\n",
    "rides.dtypes"
   ]
  },
  {
   "cell_type": "markdown",
   "metadata": {},
   "source": [
    "We observe even the dates column have object type. This has to be converted to pandas datetime type inorder to get extract some useful time series insights from the data."
   ]
  },
  {
   "cell_type": "code",
   "execution_count": 12,
   "metadata": {
    "collapsed": true
   },
   "outputs": [],
   "source": [
    "# Convert all the date related columns to Pandas datetime type\n",
    "rides['signup_date'] = pd.to_datetime(rides['signup_date'])\n",
    "rides['vehicle_added_date'] = pd.to_datetime(rides['vehicle_added_date'])\n",
    "rides['bgc_date'] = pd.to_datetime(rides['bgc_date'])\n",
    "rides['first_completed_date'] = pd.to_datetime(rides['first_completed_date'])"
   ]
  },
  {
   "cell_type": "code",
   "execution_count": 13,
   "metadata": {
    "collapsed": true
   },
   "outputs": [],
   "source": [
    "# Convert categorical labels to numeric for city_name column\n",
    "rides.loc[rides[\"city_name\"] == \"Berton\", \"city_name\"] = 1\n",
    "rides.loc[rides[\"city_name\"] == \"Strark\", \"city_name\"] = 2\n",
    "rides.loc[rides[\"city_name\"] == \"Wrouver\", \"city_name\"] = 3"
   ]
  },
  {
   "cell_type": "markdown",
   "metadata": {},
   "source": [
    "Converting all the non-numeric columns to numeric. Find all the unique city names and assign codes 1,2,3 to all three respectively."
   ]
  },
  {
   "cell_type": "code",
   "execution_count": 14,
   "metadata": {
    "collapsed": false
   },
   "outputs": [
    {
     "data": {
      "text/plain": [
       "array(['ios web', 'windows', 'android web', nan, 'mac', 'other'], dtype=object)"
      ]
     },
     "execution_count": 14,
     "metadata": {},
     "output_type": "execute_result"
    }
   ],
   "source": [
    "# Check all the unique values in signup_os column\n",
    "rides['signup_os'].unique()"
   ]
  },
  {
   "cell_type": "code",
   "execution_count": 15,
   "metadata": {
    "collapsed": true
   },
   "outputs": [],
   "source": [
    "# Convert categorical labels to numeric for signup_os column\n",
    "rides.loc[rides[\"signup_os\"] == \"ios web\", \"signup_os\"] = 1\n",
    "rides.loc[rides[\"signup_os\"] == \"android web\", \"signup_os\"] = 2\n",
    "rides.loc[rides[\"signup_os\"] == \"mac\", \"signup_os\"] = 3\n",
    "rides.loc[rides[\"signup_os\"] == \"windows\", \"signup_os\"] = 4\n",
    "rides.loc[rides[\"signup_os\"] == \"other\", \"signup_os\"] = 5\n",
    "rides['signup_os'] = rides['signup_os'].fillna(1)\n",
    "rides['signup_os'] = rides['signup_os'].astype(str)"
   ]
  },
  {
   "cell_type": "markdown",
   "metadata": {},
   "source": [
    "Converting signup_os columns to numeric."
   ]
  },
  {
   "cell_type": "code",
   "execution_count": 16,
   "metadata": {
    "collapsed": true
   },
   "outputs": [],
   "source": [
    "# Convert categorical labels to numeric for signup_channel column\n",
    "rides.loc[rides[\"signup_channel\"] == \"Referral\", \"signup_channel\"] = 1\n",
    "rides.loc[rides[\"signup_channel\"] == \"Paid\", \"signup_channel\"] = 2\n",
    "rides.loc[rides[\"signup_channel\"] == \"Organic\", \"signup_channel\"] = 3"
   ]
  },
  {
   "cell_type": "markdown",
   "metadata": {},
   "source": [
    "Converting signup_channel column to numeric."
   ]
  },
  {
   "cell_type": "code",
   "execution_count": 17,
   "metadata": {
    "collapsed": false
   },
   "outputs": [
    {
     "data": {
      "text/plain": [
       "id                               int64\n",
       "city_name                       object\n",
       "signup_os                       object\n",
       "signup_channel                  object\n",
       "signup_date             datetime64[ns]\n",
       "bgc_date                datetime64[ns]\n",
       "vehicle_added_date      datetime64[ns]\n",
       "vehicle_make                    object\n",
       "vehicle_model                   object\n",
       "vehicle_year                   float64\n",
       "first_completed_date    datetime64[ns]\n",
       "class_label                      int64\n",
       "dtype: object"
      ]
     },
     "execution_count": 17,
     "metadata": {},
     "output_type": "execute_result"
    }
   ],
   "source": [
    "# Check if the data types are correct for all variables\n",
    "rides.dtypes"
   ]
  },
  {
   "cell_type": "markdown",
   "metadata": {},
   "source": [
    "Now we can see that all the columns data types are correct. Now we can proceed further with our investigation !!!"
   ]
  },
  {
   "cell_type": "markdown",
   "metadata": {},
   "source": [
    "# Data Visualization"
   ]
  },
  {
   "cell_type": "markdown",
   "metadata": {},
   "source": [
    "Lets try to visualize our class_label against various parameters like city_name, signup-os, signup_channel, signup_week (extracted from signup_date) inorder to see if we can get any useful information or trends out of it."
   ]
  },
  {
   "cell_type": "code",
   "execution_count": 18,
   "metadata": {
    "collapsed": false
   },
   "outputs": [
    {
     "data": {
      "text/plain": [
       "(<matplotlib.figure.Figure at 0x21bfa3ea9b0>,\n",
       " OrderedDict([(('2', '0'),\n",
       "               (0.0, 0.0, 0.5351832708919654, 0.88745694028667166)),\n",
       "              (('2', '1'),\n",
       "               (0.0,\n",
       "                0.89077919942288419,\n",
       "                0.5351832708919654,\n",
       "                0.10922080057711564)),\n",
       "              (('3', '0'),\n",
       "               (0.5401337659414703,\n",
       "                0.0,\n",
       "                0.09066084641053127,\n",
       "                0.90491252445911274)),\n",
       "              (('3', '1'),\n",
       "               (0.5401337659414703,\n",
       "                0.90823478359532528,\n",
       "                0.09066084641053127,\n",
       "                0.091765216404674596)),\n",
       "              (('1', '0'),\n",
       "               (0.6357451074015066,\n",
       "                0.0,\n",
       "                0.3642548925984934,\n",
       "                0.87593888047282198)),\n",
       "              (('1', '1'),\n",
       "               (0.6357451074015066,\n",
       "                0.87926113960903451,\n",
       "                0.3642548925984934,\n",
       "                0.12073886039096533))]))"
      ]
     },
     "execution_count": 18,
     "metadata": {},
     "output_type": "execute_result"
    },
    {
     "data": {
      "image/png": "[encoded data removed]",
      "text/plain": [
       "<matplotlib.figure.Figure at 0x21bfa3ea9b0>"
      ]
     },
     "metadata": {},
     "output_type": "display_data"
    }
   ],
   "source": [
    "# Create the mosaic plot of city_name versus class_label\n",
    "from statsmodels.graphics.mosaicplot import mosaic\n",
    "mosaic(rides, ['city_name', 'class_label'], title = 'City_Name vs Class_Label')"
   ]
  },
  {
   "cell_type": "markdown",
   "metadata": {},
   "source": [
    "We can see that Berton had slightly more signup-ride conversion rate compared to other cities. This means that Uber wants to concentrate on other 2 cities to increse this conversion."
   ]
  },
  {
   "cell_type": "code",
   "execution_count": 19,
   "metadata": {
    "collapsed": false
   },
   "outputs": [
    {
     "data": {
      "text/plain": [
       "(<matplotlib.figure.Figure at 0x21bfcc84358>,\n",
       " OrderedDict([(('1', '0'),\n",
       "               (0.0, 0.0, 0.4211413721868477, 0.89743004041334673)),\n",
       "              (('1', '1'),\n",
       "               (0.0,\n",
       "                0.90075229954955927,\n",
       "                0.4211413721868477,\n",
       "                0.099247700450440596)),\n",
       "              (('4', '0'),\n",
       "               (0.4260433329711614,\n",
       "                0.0,\n",
       "                0.12148894963336365,\n",
       "                0.86459146410822629)),\n",
       "              (('4', '1'),\n",
       "               (0.4260433329711614,\n",
       "                0.86791372324443894,\n",
       "                0.12148894963336365,\n",
       "                0.13208627675556098)),\n",
       "              (('2', '0'),\n",
       "               (0.5524342433888388,\n",
       "                0.0,\n",
       "                0.2679354875030973,\n",
       "                0.89970441141946533)),\n",
       "              (('2', '1'),\n",
       "               (0.5524342433888388,\n",
       "                0.90302667055567798,\n",
       "                0.2679354875030973,\n",
       "                0.096973329444321951)),\n",
       "              (('3', '0'),\n",
       "               (0.8252716916762499,\n",
       "                0.0,\n",
       "                0.10442025423032911,\n",
       "                0.83444379540725055)),\n",
       "              (('3', '1'),\n",
       "               (0.8252716916762499,\n",
       "                0.83776605454346309,\n",
       "                0.10442025423032911,\n",
       "                0.16223394545653677)),\n",
       "              (('5', '0'),\n",
       "               (0.9345939066908927,\n",
       "                0.0,\n",
       "                0.06540609330910727,\n",
       "                0.86061811505507946)),\n",
       "              (('5', '1'),\n",
       "               (0.9345939066908927,\n",
       "                0.8639403741912921,\n",
       "                0.06540609330910727,\n",
       "                0.13605962580870781))]))"
      ]
     },
     "execution_count": 19,
     "metadata": {},
     "output_type": "execute_result"
    },
    {
     "data": {
      "image/png": "[encoded data removed]",
      "text/plain": [
       "<matplotlib.figure.Figure at 0x21bfcc84358>"
      ]
     },
     "metadata": {},
     "output_type": "display_data"
    }
   ],
   "source": [
    "# Create the mosaic plot of signup_os versus class_label\n",
    "mosaic(rides, ['signup_os', 'class_label'],title = 'Signup_os vs Class_Label')"
   ]
  },
  {
   "cell_type": "markdown",
   "metadata": {},
   "source": [
    "We can clearly see people signed up from ios and android the most. and conversion rate is more or likely not so different. This might give us some useful insigts while training our machine learning model."
   ]
  },
  {
   "cell_type": "code",
   "execution_count": 20,
   "metadata": {
    "collapsed": false
   },
   "outputs": [
    {
     "data": {
      "text/plain": [
       "(<matplotlib.figure.Figure at 0x21bfce34e80>,\n",
       " OrderedDict([(('2', '0'),\n",
       "               (0.0, 0.0, 0.43344105080393375, 0.9349734877114716)),\n",
       "              (('2', '1'),\n",
       "               (0.0,\n",
       "                0.93829574684768424,\n",
       "                0.43344105080393375,\n",
       "                0.061704253152315681)),\n",
       "              (('3', '0'),\n",
       "               (0.4383915458534387,\n",
       "                0.0,\n",
       "                0.2431202685748357,\n",
       "                0.9068602040763305)),\n",
       "              (('3', '1'),\n",
       "               (0.4383915458534387,\n",
       "                0.91018246321254304,\n",
       "                0.2431202685748357,\n",
       "                0.089817536787456825)),\n",
       "              (('1', '0'),\n",
       "               (0.6864623094777794,\n",
       "                0.0,\n",
       "                0.31353769052222064,\n",
       "                0.79838975187812389)),\n",
       "              (('1', '1'),\n",
       "               (0.6864623094777794,\n",
       "                0.80171201101433642,\n",
       "                0.31353769052222064,\n",
       "                0.19828798898566344))]))"
      ]
     },
     "execution_count": 20,
     "metadata": {},
     "output_type": "execute_result"
    },
    {
     "data": {
      "image/png": "[encoded data removed]",
      "text/plain": [
       "<matplotlib.figure.Figure at 0x21bfce34e80>"
      ]
     },
     "metadata": {},
     "output_type": "display_data"
    }
   ],
   "source": [
    "# Create the mosaic plot of signup_channel versus class_label\n",
    "mosaic(rides, ['signup_channel', 'class_label'],title = 'Signup_channel vs Class_Label')"
   ]
  },
  {
   "cell_type": "markdown",
   "metadata": {},
   "source": [
    "The above figures helps us in a greater way. We can see a lot of signup-ride conversion when signup channel is via referral. Hence Uber might want to concentrate on improving and encouraging more and more people to refer their friends and relatives via some referral programs/perks and benifits etc."
   ]
  },
  {
   "cell_type": "code",
   "execution_count": 21,
   "metadata": {
    "collapsed": false
   },
   "outputs": [
    {
     "data": {
      "text/plain": [
       "(<matplotlib.figure.Figure at 0x21bfcfaabe0>,\n",
       " OrderedDict([(('53', '0'),\n",
       "               (0.0, 0.0, 0.10725308392957227, 0.91353795606087362)),\n",
       "              (('53', '1'),\n",
       "               (0.0,\n",
       "                0.91686021519708616,\n",
       "                0.10725308392957227,\n",
       "                0.083139784802913716)),\n",
       "              (('3', '0'),\n",
       "               (0.112155044713886,\n",
       "                0.0,\n",
       "                0.22307637416444973,\n",
       "                0.88853476142590648)),\n",
       "              (('3', '1'),\n",
       "               (0.112155044713886,\n",
       "                0.89185702056211913,\n",
       "                0.22307637416444973,\n",
       "                0.1081429794378808)),\n",
       "              (('2', '0'),\n",
       "               (0.34013337966264945,\n",
       "                0.0,\n",
       "                0.20668899223338497,\n",
       "                0.87814502202927547)),\n",
       "              (('2', '1'),\n",
       "               (0.34013337966264945,\n",
       "                0.88146728116548811,\n",
       "                0.20668899223338497,\n",
       "                0.11853271883451179)),\n",
       "              (('4', '0'),\n",
       "               (0.5517243326803482,\n",
       "                0.0,\n",
       "                0.1869667601500468,\n",
       "                0.88494813987896115)),\n",
       "              (('4', '1'),\n",
       "               (0.5517243326803482,\n",
       "                0.88827039901517368,\n",
       "                0.1869667601500468,\n",
       "                0.11172960098482618)),\n",
       "              (('1', '0'),\n",
       "               (0.7435930536147086,\n",
       "                0.0,\n",
       "                0.2564069463852914,\n",
       "                0.87485460324894215)),\n",
       "              (('1', '1'),\n",
       "               (0.7435930536147086,\n",
       "                0.8781768623851548,\n",
       "                0.2564069463852914,\n",
       "                0.12182313761484515))]))"
      ]
     },
     "execution_count": 21,
     "metadata": {},
     "output_type": "execute_result"
    },
    {
     "data": {
      "image/png": "[encoded data removed]",
      "text/plain": [
       "<matplotlib.figure.Figure at 0x21bfcfaabe0>"
      ]
     },
     "metadata": {},
     "output_type": "display_data"
    }
   ],
   "source": [
    "# Create the mosaic plot of signup_week versus class_label\n",
    "rides['signup_week'] = rides['signup_date'].dt.week\n",
    "mosaic(rides, ['signup_week', 'class_label'], title = 'Signup_Week vs Class_Label')"
   ]
  },
  {
   "cell_type": "markdown",
   "metadata": {},
   "source": [
    "The signup week also doesnt give us any critical information."
   ]
  },
  {
   "cell_type": "code",
   "execution_count": 22,
   "metadata": {
    "collapsed": false
   },
   "outputs": [
    {
     "data": {
      "text/plain": [
       "(6137, 13)"
      ]
     },
     "execution_count": 22,
     "metadata": {},
     "output_type": "execute_result"
    }
   ],
   "source": [
    "# Collect all the class label rows to new dataframe called num\n",
    "num = rides[rides['class_label'] == 1]\n",
    "num.shape"
   ]
  },
  {
   "cell_type": "code",
   "execution_count": 23,
   "metadata": {
    "collapsed": false
   },
   "outputs": [
    {
     "name": "stdout",
     "output_type": "stream",
     "text": [
      "0.11223276823759624\n"
     ]
    }
   ],
   "source": [
    "# Check what portion of signed up drivers actually start driving\n",
    "ride_start = num.shape[0] / rides.shape[0]\n",
    "print(ride_start)"
   ]
  },
  {
   "cell_type": "markdown",
   "metadata": {},
   "source": [
    "This shows that only 11.22% of the signed up drivers start driving !!!"
   ]
  },
  {
   "cell_type": "markdown",
   "metadata": {},
   "source": [
    "# Machine Learning"
   ]
  },
  {
   "cell_type": "markdown",
   "metadata": {},
   "source": [
    "Since this is a classification problem, let us try to build a model using Logistic Regression and Random Forest Classifier using sklearn library. We can also compare their accuracies in parallel to check which model performs better (meaning which model predicts better). Inorder to avoid overfitting, I am using the method of cross validation and training the model with train data and tetsing it with test data. For Logistic Regression, 5 folds of cross-validation is activated and for Random Forest, 3 folds. Finally after getting the individual accuracies for the respective models, taking the average gives us the mean accuracy."
   ]
  },
  {
   "cell_type": "markdown",
   "metadata": {},
   "source": [
    "For prediction purpose, intially I am using three main predictors namely \"city_name\",\"signup_os\",\"signup_channel\". In the later part, I am doing some feature engineering to extract some useful insights from the date columns."
   ]
  },
  {
   "cell_type": "code",
   "execution_count": 25,
   "metadata": {
    "collapsed": false
   },
   "outputs": [
    {
     "name": "stdout",
     "output_type": "stream",
     "text": [
      "0.887767233912\n"
     ]
    }
   ],
   "source": [
    "# Logistic Regression using sklearn\n",
    "from sklearn import cross_validation\n",
    "from sklearn.linear_model import LogisticRegression\n",
    "\n",
    "predictors = [\"city_name\",\"signup_os\",\"signup_channel\"]\n",
    "\n",
    "# Initialize our algorithm\n",
    "alg = LogisticRegression(random_state=1)\n",
    "# Compute the accuracy score for all the cross validation folds\n",
    "scores = cross_validation.cross_val_score(alg,rides[predictors], rides[\"class_label\"], cv=5)\n",
    "# Take the mean of the scores (because we have one for each fold)\n",
    "print(scores.mean())"
   ]
  },
  {
   "cell_type": "markdown",
   "metadata": {},
   "source": [
    "We get a good accuracy score using the above three predictors which proves that our visualization above gave us the same insights which told us that these three were the attributes which influenced the signup-ride conversion rate more."
   ]
  },
  {
   "cell_type": "code",
   "execution_count": 26,
   "metadata": {
    "collapsed": false
   },
   "outputs": [
    {
     "name": "stdout",
     "output_type": "stream",
     "text": [
      "0.887767231762\n"
     ]
    }
   ],
   "source": [
    "# Random Forest using sklearn\n",
    "from sklearn import cross_validation\n",
    "from sklearn.ensemble import RandomForestClassifier\n",
    "\n",
    "alg = RandomForestClassifier(random_state=1, n_estimators=10, min_samples_split=2, min_samples_leaf=1)\n",
    "\n",
    "kf = cross_validation.KFold(rides.shape[0], n_folds=3, random_state=1)\n",
    "scores = cross_validation.cross_val_score(alg, rides[predictors], rides[\"class_label\"], cv=kf)\n",
    "\n",
    "print(scores.mean())"
   ]
  },
  {
   "cell_type": "markdown",
   "metadata": {},
   "source": [
    "Even the Random Forest classifier almost gives us the same accuracy score. Lets try by changing n_estimators and min_sample_split to check if that would increase our prediction rate."
   ]
  },
  {
   "cell_type": "code",
   "execution_count": 27,
   "metadata": {
    "collapsed": false
   },
   "outputs": [
    {
     "name": "stdout",
     "output_type": "stream",
     "text": [
      "0.887767231762\n"
     ]
    }
   ],
   "source": [
    "# Changing the estimators to increase the accuracy\n",
    "alg = RandomForestClassifier(random_state=1, n_estimators=50, min_samples_split=4, min_samples_leaf=2)\n",
    "\n",
    "kf = cross_validation.KFold(rides.shape[0], n_folds = 3, random_state=1)\n",
    "scores = cross_validation.cross_val_score(alg, rides[predictors], rides[\"class_label\"], cv=kf)\n",
    "\n",
    "print(scores.mean())"
   ]
  },
  {
   "cell_type": "markdown",
   "metadata": {},
   "source": [
    "# Feature Engineering"
   ]
  },
  {
   "cell_type": "markdown",
   "metadata": {},
   "source": [
    "We have three main date fields namely signup_date, vehicle_added_date and first_completed_date. Lets do some feature engineering to get useful insights with this data."
   ]
  },
  {
   "cell_type": "markdown",
   "metadata": {},
   "source": [
    "1) delay_adding -> After the driver singed up, his/her information has to be approved and added. The difference between these two dates might influence the driver. More the difference, the driver might change his plans and not start driving at all or he might opt for any other UBER competitor like Lyft. Hence lets try to check if this has any effect to our predictions."
   ]
  },
  {
   "cell_type": "markdown",
   "metadata": {},
   "source": [
    "2) delay_bgc_date -> After the driver singed up, his/her information has to be background checked. Let us check if the difference in these days has any effect on the driver to make his first ride."
   ]
  },
  {
   "cell_type": "markdown",
   "metadata": {},
   "source": [
    "3) completed - added -> This is the difference in timings between the drivers first ride date and the vehicle added date. This might be one of the factors during our prediction. "
   ]
  },
  {
   "cell_type": "code",
   "execution_count": 28,
   "metadata": {
    "collapsed": false
   },
   "outputs": [],
   "source": [
    "# Create a column of delay_adding and add it to pandas dataframe\n",
    "rides['delay_adding'] = rides['vehicle_added_date'] - rides['signup_date']\n",
    "rides['delay_adding'] = rides['delay_adding'].apply(lambda x: str(x))"
   ]
  },
  {
   "cell_type": "code",
   "execution_count": 29,
   "metadata": {
    "collapsed": true
   },
   "outputs": [],
   "source": [
    "# Function to convert the column from datetime to numeric\n",
    "def convert_column(num):\n",
    "    tempo = num.split(' ')[0]\n",
    "    if int(tempo) <= 0:\n",
    "        return 0\n",
    "    else:\n",
    "        return int(tempo)"
   ]
  },
  {
   "cell_type": "code",
   "execution_count": 30,
   "metadata": {
    "collapsed": true
   },
   "outputs": [],
   "source": [
    "# Convert delay_adding column to numeric\n",
    "rides['delay_adding'] = rides['delay_adding'].apply(convert_column)"
   ]
  },
  {
   "cell_type": "code",
   "execution_count": 31,
   "metadata": {
    "collapsed": false
   },
   "outputs": [],
   "source": [
    "# Create a column of difference between completed and vehicle added time\n",
    "rides['completed-added'] = (rides['first_completed_date'] - rides['vehicle_added_date'])\n",
    "rides['completed-added'] = rides['completed-added'].apply(lambda x: str(x))"
   ]
  },
  {
   "cell_type": "code",
   "execution_count": 32,
   "metadata": {
    "collapsed": false
   },
   "outputs": [],
   "source": [
    "# Convert completed-added column to numeric\n",
    "rides['completed-added'] = rides['completed-added'].apply(convert_column)"
   ]
  },
  {
   "cell_type": "code",
   "execution_count": 33,
   "metadata": {
    "collapsed": false
   },
   "outputs": [
    {
     "data": {
      "text/plain": [
       "array([ 0,  2, 16,  3,  7, 12,  4, 18,  1, 26,  5, 22, 13, 25, 24, 10,  8,\n",
       "        9, 11,  6, 15, 17, 14, 19, 29, 21, 23, 20, 28, 27, 30], dtype=int64)"
      ]
     },
     "execution_count": 33,
     "metadata": {},
     "output_type": "execute_result"
    }
   ],
   "source": [
    "# Check the unique values  in the completed-added column\n",
    "rides['completed-added'].unique()"
   ]
  },
  {
   "cell_type": "code",
   "execution_count": 34,
   "metadata": {
    "collapsed": false
   },
   "outputs": [
    {
     "data": {
      "text/html": [
       "<div>\n",
       "<table border=\"1\" class=\"dataframe\">\n",
       "  <thead>\n",
       "    <tr style=\"text-align: right;\">\n",
       "      <th></th>\n",
       "      <th>id</th>\n",
       "      <th>city_name</th>\n",
       "      <th>signup_os</th>\n",
       "      <th>signup_channel</th>\n",
       "      <th>signup_date</th>\n",
       "      <th>bgc_date</th>\n",
       "      <th>vehicle_added_date</th>\n",
       "      <th>vehicle_make</th>\n",
       "      <th>vehicle_model</th>\n",
       "      <th>vehicle_year</th>\n",
       "      <th>first_completed_date</th>\n",
       "      <th>class_label</th>\n",
       "      <th>signup_week</th>\n",
       "      <th>delay_adding</th>\n",
       "      <th>completed-added</th>\n",
       "    </tr>\n",
       "  </thead>\n",
       "  <tbody>\n",
       "    <tr>\n",
       "      <th>0</th>\n",
       "      <td>1</td>\n",
       "      <td>2</td>\n",
       "      <td>1</td>\n",
       "      <td>2</td>\n",
       "      <td>2016-01-02</td>\n",
       "      <td>NaT</td>\n",
       "      <td>2016-01-02</td>\n",
       "      <td>NaN</td>\n",
       "      <td>NaN</td>\n",
       "      <td>NaN</td>\n",
       "      <td>1970-01-01</td>\n",
       "      <td>0</td>\n",
       "      <td>53</td>\n",
       "      <td>0</td>\n",
       "      <td>0</td>\n",
       "    </tr>\n",
       "    <tr>\n",
       "      <th>1</th>\n",
       "      <td>2</td>\n",
       "      <td>2</td>\n",
       "      <td>4</td>\n",
       "      <td>2</td>\n",
       "      <td>2016-01-21</td>\n",
       "      <td>NaT</td>\n",
       "      <td>2016-01-21</td>\n",
       "      <td>NaN</td>\n",
       "      <td>NaN</td>\n",
       "      <td>NaN</td>\n",
       "      <td>1970-01-01</td>\n",
       "      <td>0</td>\n",
       "      <td>3</td>\n",
       "      <td>0</td>\n",
       "      <td>0</td>\n",
       "    </tr>\n",
       "    <tr>\n",
       "      <th>2</th>\n",
       "      <td>3</td>\n",
       "      <td>3</td>\n",
       "      <td>4</td>\n",
       "      <td>3</td>\n",
       "      <td>2016-01-11</td>\n",
       "      <td>2016-01-11</td>\n",
       "      <td>2016-01-11</td>\n",
       "      <td>NaN</td>\n",
       "      <td>NaN</td>\n",
       "      <td>NaN</td>\n",
       "      <td>1970-01-01</td>\n",
       "      <td>0</td>\n",
       "      <td>2</td>\n",
       "      <td>0</td>\n",
       "      <td>0</td>\n",
       "    </tr>\n",
       "    <tr>\n",
       "      <th>3</th>\n",
       "      <td>4</td>\n",
       "      <td>1</td>\n",
       "      <td>2</td>\n",
       "      <td>1</td>\n",
       "      <td>2016-01-29</td>\n",
       "      <td>2016-02-03</td>\n",
       "      <td>2016-02-03</td>\n",
       "      <td>Toyota</td>\n",
       "      <td>Corolla</td>\n",
       "      <td>2016.0</td>\n",
       "      <td>2016-02-03</td>\n",
       "      <td>1</td>\n",
       "      <td>4</td>\n",
       "      <td>5</td>\n",
       "      <td>0</td>\n",
       "    </tr>\n",
       "    <tr>\n",
       "      <th>4</th>\n",
       "      <td>5</td>\n",
       "      <td>2</td>\n",
       "      <td>2</td>\n",
       "      <td>1</td>\n",
       "      <td>2016-01-10</td>\n",
       "      <td>2016-01-25</td>\n",
       "      <td>2016-01-26</td>\n",
       "      <td>Hyundai</td>\n",
       "      <td>Sonata</td>\n",
       "      <td>2016.0</td>\n",
       "      <td>1970-01-01</td>\n",
       "      <td>0</td>\n",
       "      <td>1</td>\n",
       "      <td>16</td>\n",
       "      <td>0</td>\n",
       "    </tr>\n",
       "  </tbody>\n",
       "</table>\n",
       "</div>"
      ],
      "text/plain": [
       "   id city_name signup_os signup_channel signup_date   bgc_date  \\\n",
       "0   1         2         1              2  2016-01-02        NaT   \n",
       "1   2         2         4              2  2016-01-21        NaT   \n",
       "2   3         3         4              3  2016-01-11 2016-01-11   \n",
       "3   4         1         2              1  2016-01-29 2016-02-03   \n",
       "4   5         2         2              1  2016-01-10 2016-01-25   \n",
       "\n",
       "  vehicle_added_date vehicle_make vehicle_model  vehicle_year  \\\n",
       "0         2016-01-02          NaN           NaN           NaN   \n",
       "1         2016-01-21          NaN           NaN           NaN   \n",
       "2         2016-01-11          NaN           NaN           NaN   \n",
       "3         2016-02-03       Toyota       Corolla        2016.0   \n",
       "4         2016-01-26      Hyundai        Sonata        2016.0   \n",
       "\n",
       "  first_completed_date  class_label  signup_week  delay_adding  \\\n",
       "0           1970-01-01            0           53             0   \n",
       "1           1970-01-01            0            3             0   \n",
       "2           1970-01-01            0            2             0   \n",
       "3           2016-02-03            1            4             5   \n",
       "4           1970-01-01            0            1            16   \n",
       "\n",
       "   completed-added  \n",
       "0                0  \n",
       "1                0  \n",
       "2                0  \n",
       "3                0  \n",
       "4                0  "
      ]
     },
     "execution_count": 34,
     "metadata": {},
     "output_type": "execute_result"
    }
   ],
   "source": [
    "# Check if all the feature engineering techniques resulted in correct transformations\n",
    "rides.head()"
   ]
  },
  {
   "cell_type": "code",
   "execution_count": 35,
   "metadata": {
    "collapsed": false
   },
   "outputs": [],
   "source": [
    "# Create delay_bg_check feature by using the difference in signup and bgc dates\n",
    "rides['bgc_date'] = rides['bgc_date'].fillna(rides['signup_date'])\n",
    "rides['delay_bgc_date'] = rides['bgc_date'] - rides['signup_date']\n",
    "rides['delay_bgc_date'] = rides['delay_bgc_date'].apply(lambda x: str(x))\n",
    "rides['delay_bgc_date'] = rides['delay_bgc_date'].apply(convert_column)"
   ]
  },
  {
   "cell_type": "code",
   "execution_count": 36,
   "metadata": {
    "collapsed": false
   },
   "outputs": [
    {
     "data": {
      "text/html": [
       "<div>\n",
       "<table border=\"1\" class=\"dataframe\">\n",
       "  <thead>\n",
       "    <tr style=\"text-align: right;\">\n",
       "      <th></th>\n",
       "      <th>id</th>\n",
       "      <th>city_name</th>\n",
       "      <th>signup_os</th>\n",
       "      <th>signup_channel</th>\n",
       "      <th>signup_date</th>\n",
       "      <th>bgc_date</th>\n",
       "      <th>vehicle_added_date</th>\n",
       "      <th>vehicle_make</th>\n",
       "      <th>vehicle_model</th>\n",
       "      <th>vehicle_year</th>\n",
       "      <th>first_completed_date</th>\n",
       "      <th>class_label</th>\n",
       "      <th>signup_week</th>\n",
       "      <th>delay_adding</th>\n",
       "      <th>completed-added</th>\n",
       "      <th>delay_bgc_date</th>\n",
       "    </tr>\n",
       "  </thead>\n",
       "  <tbody>\n",
       "    <tr>\n",
       "      <th>0</th>\n",
       "      <td>1</td>\n",
       "      <td>2</td>\n",
       "      <td>1</td>\n",
       "      <td>2</td>\n",
       "      <td>2016-01-02</td>\n",
       "      <td>2016-01-02</td>\n",
       "      <td>2016-01-02</td>\n",
       "      <td>NaN</td>\n",
       "      <td>NaN</td>\n",
       "      <td>NaN</td>\n",
       "      <td>1970-01-01</td>\n",
       "      <td>0</td>\n",
       "      <td>53</td>\n",
       "      <td>0</td>\n",
       "      <td>0</td>\n",
       "      <td>0</td>\n",
       "    </tr>\n",
       "    <tr>\n",
       "      <th>1</th>\n",
       "      <td>2</td>\n",
       "      <td>2</td>\n",
       "      <td>4</td>\n",
       "      <td>2</td>\n",
       "      <td>2016-01-21</td>\n",
       "      <td>2016-01-21</td>\n",
       "      <td>2016-01-21</td>\n",
       "      <td>NaN</td>\n",
       "      <td>NaN</td>\n",
       "      <td>NaN</td>\n",
       "      <td>1970-01-01</td>\n",
       "      <td>0</td>\n",
       "      <td>3</td>\n",
       "      <td>0</td>\n",
       "      <td>0</td>\n",
       "      <td>0</td>\n",
       "    </tr>\n",
       "    <tr>\n",
       "      <th>2</th>\n",
       "      <td>3</td>\n",
       "      <td>3</td>\n",
       "      <td>4</td>\n",
       "      <td>3</td>\n",
       "      <td>2016-01-11</td>\n",
       "      <td>2016-01-11</td>\n",
       "      <td>2016-01-11</td>\n",
       "      <td>NaN</td>\n",
       "      <td>NaN</td>\n",
       "      <td>NaN</td>\n",
       "      <td>1970-01-01</td>\n",
       "      <td>0</td>\n",
       "      <td>2</td>\n",
       "      <td>0</td>\n",
       "      <td>0</td>\n",
       "      <td>0</td>\n",
       "    </tr>\n",
       "    <tr>\n",
       "      <th>3</th>\n",
       "      <td>4</td>\n",
       "      <td>1</td>\n",
       "      <td>2</td>\n",
       "      <td>1</td>\n",
       "      <td>2016-01-29</td>\n",
       "      <td>2016-02-03</td>\n",
       "      <td>2016-02-03</td>\n",
       "      <td>Toyota</td>\n",
       "      <td>Corolla</td>\n",
       "      <td>2016.0</td>\n",
       "      <td>2016-02-03</td>\n",
       "      <td>1</td>\n",
       "      <td>4</td>\n",
       "      <td>5</td>\n",
       "      <td>0</td>\n",
       "      <td>5</td>\n",
       "    </tr>\n",
       "    <tr>\n",
       "      <th>4</th>\n",
       "      <td>5</td>\n",
       "      <td>2</td>\n",
       "      <td>2</td>\n",
       "      <td>1</td>\n",
       "      <td>2016-01-10</td>\n",
       "      <td>2016-01-25</td>\n",
       "      <td>2016-01-26</td>\n",
       "      <td>Hyundai</td>\n",
       "      <td>Sonata</td>\n",
       "      <td>2016.0</td>\n",
       "      <td>1970-01-01</td>\n",
       "      <td>0</td>\n",
       "      <td>1</td>\n",
       "      <td>16</td>\n",
       "      <td>0</td>\n",
       "      <td>15</td>\n",
       "    </tr>\n",
       "  </tbody>\n",
       "</table>\n",
       "</div>"
      ],
      "text/plain": [
       "   id city_name signup_os signup_channel signup_date   bgc_date  \\\n",
       "0   1         2         1              2  2016-01-02 2016-01-02   \n",
       "1   2         2         4              2  2016-01-21 2016-01-21   \n",
       "2   3         3         4              3  2016-01-11 2016-01-11   \n",
       "3   4         1         2              1  2016-01-29 2016-02-03   \n",
       "4   5         2         2              1  2016-01-10 2016-01-25   \n",
       "\n",
       "  vehicle_added_date vehicle_make vehicle_model  vehicle_year  \\\n",
       "0         2016-01-02          NaN           NaN           NaN   \n",
       "1         2016-01-21          NaN           NaN           NaN   \n",
       "2         2016-01-11          NaN           NaN           NaN   \n",
       "3         2016-02-03       Toyota       Corolla        2016.0   \n",
       "4         2016-01-26      Hyundai        Sonata        2016.0   \n",
       "\n",
       "  first_completed_date  class_label  signup_week  delay_adding  \\\n",
       "0           1970-01-01            0           53             0   \n",
       "1           1970-01-01            0            3             0   \n",
       "2           1970-01-01            0            2             0   \n",
       "3           2016-02-03            1            4             5   \n",
       "4           1970-01-01            0            1            16   \n",
       "\n",
       "   completed-added  delay_bgc_date  \n",
       "0                0               0  \n",
       "1                0               0  \n",
       "2                0               0  \n",
       "3                0               5  \n",
       "4                0              15  "
      ]
     },
     "execution_count": 36,
     "metadata": {},
     "output_type": "execute_result"
    }
   ],
   "source": [
    "rides.head()"
   ]
  },
  {
   "cell_type": "markdown",
   "metadata": {},
   "source": [
    "# Machine Learning"
   ]
  },
  {
   "cell_type": "markdown",
   "metadata": {},
   "source": [
    "Lets not just blindly consider these 3 new features along with the above 3 older features. Let us try to select the best predictors using the p-values from the below approach."
   ]
  },
  {
   "cell_type": "code",
   "execution_count": 37,
   "metadata": {
    "collapsed": false
   },
   "outputs": [
    {
     "name": "stderr",
     "output_type": "stream",
     "text": [
      "C:\\Users\\vinay\\Anaconda3\\lib\\site-packages\\ipykernel\\__main__.py:11: RuntimeWarning: divide by zero encountered in log10\n"
     ]
    },
    {
     "data": {
      "image/png": "[encoded data removed]",
      "text/plain": [
       "<matplotlib.figure.Figure at 0x21bfcec2080>"
      ]
     },
     "metadata": {},
     "output_type": "display_data"
    }
   ],
   "source": [
    "# Finding the Best Features\n",
    "from sklearn.feature_selection import SelectKBest, f_classif\n",
    "\n",
    "predictors = [\"city_name\",\"signup_os\",\"signup_channel\",\"delay_adding\", \"delay_bgc_date\", \"completed-added\"]\n",
    "\n",
    "# Perform feature selection\n",
    "selector = SelectKBest(f_classif, k=5)\n",
    "selector.fit(rides[predictors], rides[\"class_label\"])\n",
    "\n",
    "# Get p-values for each feature, and transform from p-values into scores\n",
    "scores = -np.log10(selector.pvalues_)\n",
    "\n",
    "# Plotting the scores. We can see how \"city_name\",\"signup_os\",\"signup_channel\",\"delay_adding\", \"delay_bgc_date\" are the best\n",
    "plt.bar(range(len(predictors)), scores)\n",
    "plt.xticks(range(len(predictors)), predictors, rotation='vertical')\n",
    "plt.show()"
   ]
  },
  {
   "cell_type": "markdown",
   "metadata": {},
   "source": [
    "Above graph is the proof from our mosaic plot visualization which said signup_channel influences our model in a greater way. Next are our new feature delay_bgc_date, delay_adding and then signup_os and city_name. compelted-added feature has a least influence. Hence let us not consider that for prediction purpose."
   ]
  },
  {
   "cell_type": "code",
   "execution_count": 38,
   "metadata": {
    "collapsed": false
   },
   "outputs": [
    {
     "name": "stdout",
     "output_type": "stream",
     "text": [
      "0.928476039053\n"
     ]
    }
   ],
   "source": [
    "# Pick only five best features.\n",
    "predictors = [\"city_name\",\"signup_os\",\"signup_channel\",\"delay_adding\",\"delay_bgc_date\"]\n",
    "\n",
    "alg = RandomForestClassifier(random_state=1, n_estimators=50, min_samples_split=8, min_samples_leaf=4)\n",
    "scores = cross_validation.cross_val_score(alg, rides[predictors], rides[\"class_label\"], cv=3)\n",
    "\n",
    "print(scores.mean())"
   ]
  },
  {
   "cell_type": "markdown",
   "metadata": {},
   "source": [
    "Using our new features 'delay_adding','delay_bgc_date' along with old predictors \"city_name\",\"signup_os\",\"signup_channel\" increased our accuracy to 92.8% which is a good thing."
   ]
  },
  {
   "cell_type": "markdown",
   "metadata": {
    "collapsed": true
   },
   "source": [
    "Hence this predictive model helps UBER to predict which of their future signed up users would start driving and this model along with above visualizations also give sufficient information like (referral scheme, which city to target, not to create much of delay with signup, background check and adding timings etc.) to improve their process/model to make more business."
   ]
  }
 ],
 "metadata": {
  "kernelspec": {
   "display_name": "Python 3",
   "language": "python",
   "name": "python3"
  },
  "language_info": {
   "codemirror_mode": {
    "name": "ipython",
    "version": 3
   },
   "file_extension": ".py",
   "mimetype": "text/x-python",
   "name": "python",
   "nbconvert_exporter": "python",
   "pygments_lexer": "ipython3",
   "version": "3.6.0"
  }
 },
 "nbformat": 4,
 "nbformat_minor": 2
}
